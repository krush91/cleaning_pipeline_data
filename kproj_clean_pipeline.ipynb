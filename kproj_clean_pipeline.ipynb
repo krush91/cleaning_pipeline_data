{
  "nbformat": 4,
  "nbformat_minor": 0,
  "metadata": {
    "colab": {
      "provenance": []
    },
    "kernelspec": {
      "name": "python3",
      "display_name": "Python 3"
    },
    "language_info": {
      "name": "python"
    }
  },
  "cells": [
    {
      "cell_type": "code",
      "source": [
        "import pandas as pd\n",
        "import numpy as np\n",
        "\n",
        "\n",
        "audiobooks = pd.read_csv('project_dataset.csv')"
      ],
      "metadata": {
        "id": "qMiHd6fwxmq7"
      },
      "execution_count": 1,
      "outputs": []
    },
    {
      "cell_type": "code",
      "source": [],
      "metadata": {
        "id": "ViiTmmDojSDA"
      },
      "execution_count": 1,
      "outputs": []
    },
    {
      "cell_type": "code",
      "source": [
        "def remove_prefixes():\n",
        "  # tidy up author\n",
        "  audiobooks.author = audiobooks.author.str.replace('Writtenby:','')\n",
        "  # tidy up narrator\n",
        "  audiobooks.narrator = audiobooks.narrator.str.replace('Narratedby:', '')\n",
        "  return\n"
      ],
      "metadata": {
        "id": "MiQ3ghyHis5b"
      },
      "execution_count": 2,
      "outputs": []
    },
    {
      "cell_type": "code",
      "source": [
        "remove_prefixes()\n"
      ],
      "metadata": {
        "id": "bdfFNK6njXQS"
      },
      "execution_count": 3,
      "outputs": []
    },
    {
      "cell_type": "code",
      "source": [
        " def separate(str):\n",
        "  namesep = str\n",
        "  namesep = namesep.str.replace(r'([a-z])([A-Z])', r'\\1 \\2').str.title()\n",
        "\n",
        "  return(namesep)\n"
      ],
      "metadata": {
        "id": "qJVEnXqPqUh9"
      },
      "execution_count": 4,
      "outputs": []
    },
    {
      "cell_type": "code",
      "source": [
        "audiobooks.author = separate(audiobooks.author)"
      ],
      "metadata": {
        "colab": {
          "base_uri": "https://localhost:8080/"
        },
        "id": "JOVyFp-MrU39",
        "outputId": "ec9b8c5b-b4a1-42e1-c796-7fde9d5669e4"
      },
      "execution_count": 5,
      "outputs": [
        {
          "output_type": "stream",
          "name": "stderr",
          "text": [
            "<ipython-input-4-c6d1224c8572>:3: FutureWarning: The default value of regex will change from True to False in a future version.\n",
            "  namesep = namesep.str.replace(r'([a-z])([A-Z])', r'\\1 \\2').str.title()\n"
          ]
        }
      ]
    },
    {
      "cell_type": "code",
      "source": [
        "audiobooks.narrator = separate(audiobooks.narrator)"
      ],
      "metadata": {
        "colab": {
          "base_uri": "https://localhost:8080/"
        },
        "id": "73vA7BKxsn1K",
        "outputId": "6fdd26dd-3e9a-4f45-a85d-274473261ddc"
      },
      "execution_count": 6,
      "outputs": [
        {
          "output_type": "stream",
          "name": "stderr",
          "text": [
            "<ipython-input-4-c6d1224c8572>:3: FutureWarning: The default value of regex will change from True to False in a future version.\n",
            "  namesep = namesep.str.replace(r'([a-z])([A-Z])', r'\\1 \\2').str.title()\n"
          ]
        }
      ]
    },
    {
      "cell_type": "code",
      "source": [
        "#convert releasedate (format=DD-MM-YY) to date format\n",
        "newdate = pd.to_datetime(audiobooks.releasedate).dt.strftime('%d-%b-%Y')\n",
        "\n",
        "print(newdate)"
      ],
      "metadata": {
        "colab": {
          "base_uri": "https://localhost:8080/"
        },
        "id": "x-3FGs_WtNfj",
        "outputId": "dc6dcd42-5139-4574-be32-a19474f04f6f"
      },
      "execution_count": 7,
      "outputs": [
        {
          "output_type": "stream",
          "name": "stdout",
          "text": [
            "0        08-Apr-2008\n",
            "1        05-Jan-2018\n",
            "2        11-Jun-2020\n",
            "3        10-May-2021\n",
            "4        13-Jan-2010\n",
            "            ...     \n",
            "87484    03-Sep-2017\n",
            "87485    21-Feb-2017\n",
            "87486    30-Dec-2016\n",
            "87487    23-Feb-2011\n",
            "87488    03-Jul-2017\n",
            "Name: releasedate, Length: 87489, dtype: object\n"
          ]
        }
      ]
    },
    {
      "cell_type": "code",
      "source": [
        "# make a function to convert field to date.\n",
        "def clean_date(str):\n",
        "  newdate = pd.to_datetime(str).dt.strftime('%d-%b-%Y')\n",
        "\n",
        "  return(newdate)\n"
      ],
      "metadata": {
        "id": "I24_4FHTyUIr"
      },
      "execution_count": 8,
      "outputs": []
    },
    {
      "cell_type": "code",
      "source": [
        "audiobooks.releasedate = clean_date(audiobooks.releasedate)"
      ],
      "metadata": {
        "id": "WElsIkkGy9_O"
      },
      "execution_count": 9,
      "outputs": []
    },
    {
      "cell_type": "code",
      "source": [
        "# check price type and convert to float\n",
        "\n",
        "# strip out any commas\n",
        "audiobooks.price = audiobooks.price.str.replace(',', '')\n",
        "\n",
        "# convert 'Free' books to value of 0\n",
        "audiobooks.price = audiobooks.price.str.replace('Free', '0')\n",
        "\n",
        "# convert to float\n",
        "audiobooks.price = pd.to_numeric(audiobooks.price, errors='coerce') #this puts nan if error\n"
      ],
      "metadata": {
        "id": "Y9eOoqYMEyk1"
      },
      "execution_count": 10,
      "outputs": []
    },
    {
      "cell_type": "code",
      "source": [
        "# make column minutes and use the function to populate it\n",
        "\n",
        "audiobooks['minutes'] = 0"
      ],
      "metadata": {
        "id": "EL63gpoI6lhd"
      },
      "execution_count": 11,
      "outputs": []
    },
    {
      "cell_type": "code",
      "source": [
        "# poplate minutes column with cleaned_time\n",
        "def cleaned_time(input):\n",
        "# step 1\n",
        "  converted_step1a =  input.replace('hrs', 'hr')\n",
        "  converted_step1b = converted_step1a.replace('mins','min')\n",
        "# step 2\n",
        "  converted_step2 = converted_step1b.replace(' and', '')\n",
        "#step 3\n",
        "  if input == 'Less than 1 minute':\n",
        "    return 0\n",
        "# step 4\n",
        "  split_output = converted_step2.split(' ')\n",
        "\n",
        "# step 5 calculate hours\n",
        "  if 'hr' in split_output:\n",
        "    hours = split_output[0]\n",
        "  else:\n",
        "    hours = 0\n",
        "\n",
        "# step 6 now check mins\n",
        "\n",
        "  if 'min' not in split_output:\n",
        "    minutes = 0\n",
        "  elif len(split_output) == 4:\n",
        "    minutes = split_output[2]\n",
        "  elif len(split_output) == 2:\n",
        "    minutes = split_output[0]\n",
        "\n",
        "# step 7 make into numbers\n",
        "  return int(hours) * 60 + int(minutes)"
      ],
      "metadata": {
        "id": "AVZb3tn0_wtP"
      },
      "execution_count": 12,
      "outputs": []
    },
    {
      "cell_type": "code",
      "source": [
        "audiobooks.minutes = audiobooks.time.apply(cleaned_time)"
      ],
      "metadata": {
        "id": "6ftKarOC9Pq4"
      },
      "execution_count": 13,
      "outputs": []
    },
    {
      "cell_type": "code",
      "source": [
        "audiobooks['rating'] = 0\n",
        "audiobooks['number_of_ratings'] = 0"
      ],
      "metadata": {
        "id": "VVriQVUyOKS8"
      },
      "execution_count": 14,
      "outputs": []
    },
    {
      "cell_type": "code",
      "source": [
        "def get_rating(input):\n",
        "\n",
        "  # step 1 replacing out of 5 stars\n",
        "\n",
        "  if input == 'Not rated yet':\n",
        "    return np.nan\n",
        "\n",
        "  # step 2 and 3:  remove unwanted words\n",
        "\n",
        "  stars_simplified1 =  input.replace(' out of 5 stars', ',')\n",
        "  stars_simplified2 =  stars_simplified1.replace('ratings', '')\n",
        "\n",
        "  # step 3 separate remainder fields by ','\n",
        "\n",
        "  split_stars = stars_simplified2.split(',')\n",
        "\n",
        "\n",
        "  rating = split_stars[0]\n",
        "  number_of_rating = split_stars[1]\n",
        "\n",
        "  # return rating1, rating2\n",
        "\n",
        "  # return split_stars[0]\n",
        "  return rating"
      ],
      "metadata": {
        "id": "8R-DyweDg0T8"
      },
      "execution_count": 15,
      "outputs": []
    },
    {
      "cell_type": "code",
      "source": [
        "audiobooks.rating = audiobooks.stars.apply(get_rating)"
      ],
      "metadata": {
        "id": "IMWB_61uhPbX"
      },
      "execution_count": 16,
      "outputs": []
    },
    {
      "cell_type": "code",
      "source": [
        "def rating_numbers(input):\n",
        "\n",
        "  # step 1 replacing out of 5 stars\n",
        "\n",
        "  if input == 'Not rated yet':\n",
        "    return np.nan\n",
        "\n",
        "  # step 2 and 3:  remove unwanted words\n",
        "\n",
        "  stars_simplified1 =  input.replace(' out of 5 stars', ',')\n",
        "  stars_simplified2 =  stars_simplified1.replace('ratings', '')\n",
        "  stars_simplified3 =  stars_simplified2.replace('rating', '')\n",
        "\n",
        "  # step 3 separate remainder fields by ','\n",
        "\n",
        "  split_stars = stars_simplified3.split(',')\n",
        "\n",
        "  number_of_rating = split_stars[1]\n",
        "\n",
        "  return number_of_rating"
      ],
      "metadata": {
        "id": "ck765KlWhNeD"
      },
      "execution_count": 17,
      "outputs": []
    },
    {
      "cell_type": "code",
      "source": [
        "audiobooks.number_of_ratings = audiobooks.stars.apply(rating_numbers)"
      ],
      "metadata": {
        "id": "Nosye2e6hvRe"
      },
      "execution_count": 18,
      "outputs": []
    },
    {
      "cell_type": "code",
      "source": [
        "audiobooks.to_csv('kproj_audiobooks.csv')"
      ],
      "metadata": {
        "id": "DdwMYtpnll39"
      },
      "execution_count": 19,
      "outputs": []
    }
  ]
}